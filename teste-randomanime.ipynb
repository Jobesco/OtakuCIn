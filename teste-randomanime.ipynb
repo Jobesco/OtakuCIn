{
 "cells": [
  {
   "cell_type": "code",
   "execution_count": null,
   "metadata": {},
   "outputs": [],
   "source": [
    "from ranimegen.animegen import RandomAnime"
   ]
  },
  {
   "cell_type": "code",
   "execution_count": 27,
   "metadata": {},
   "outputs": [
    {
     "name": "stdout",
     "output_type": "stream",
     "text": [
      "yu-gi-oh-hikari-no-pyramid\n"
     ]
    }
   ],
   "source": [
    "gen = RandomAnime()\n",
    "myinfo = await gen.suggestanime()\n"
   ]
  },
  {
   "cell_type": "code",
   "execution_count": 29,
   "metadata": {},
   "outputs": [
    {
     "name": "stdout",
     "output_type": "stream",
     "text": [
      "{'createdAt': '2013-02-20T16:27:05.457Z', 'updatedAt': '2022-10-23T21:01:33.208Z', 'slug': 'yu-gi-oh-hikari-no-pyramid', 'synopsis': \"Anubis, an ancient Egyptian evil that was defeated by Yugi's alter ego centuries ago, has returned to exact revenge. Wielding the power of the Eighth Millennium Item, Anubis is determined to destroy Yugi and take over the world.\\n(Source: ANN)\", 'description': \"Anubis, an ancient Egyptian evil that was defeated by Yugi's alter ego centuries ago, has returned to exact revenge. Wielding the power of the Eighth Millennium Item, Anubis is determined to destroy Yugi and take over the world.\\n(Source: ANN)\", 'coverImageTopOffset': 0, 'titles': {'en': 'Yu-Gi-Oh!: The Movie', 'en_jp': 'Yu☆Gi☆Oh!: Hikari no Pyramid', 'en_us': 'Yu-Gi-Oh!: The Movie', 'ja_jp': '遊☆戯☆王\\u3000デュエルモンスターズ\\u3000光のピラミッド'}, 'canonicalTitle': 'Yu☆Gi☆Oh!: Hikari no Pyramid', 'abbreviatedTitles': ['Yugioh', 'Yu-Gi-Oh!', 'Yu-Gi-Oh!: Duel Monsters', 'Yugioh: Duel Monsters', 'Yu-Gi-Oh!: Pyramid of Light'], 'averageRating': '62.77', 'ratingFrequencies': {'2': '89', '3': '0', '4': '151', '5': '0', '6': '160', '7': '3', '8': '390', '9': '5', '10': '570', '11': '11', '12': '979', '13': '32', '14': '1035', '15': '22', '16': '433', '17': '10', '18': '160', '19': '1', '20': '294'}, 'userCount': 5738, 'favoritesCount': 10, 'startDate': '2004-08-13', 'endDate': '2004-08-13', 'nextRelease': None, 'popularityRank': 1860, 'ratingRank': 9049, 'ageRating': 'PG', 'ageRatingGuide': 'Teens 13 or older', 'subtype': 'movie', 'status': 'finished', 'tba': '', 'posterImage': {'tiny': 'https://media.kitsu.io/anime/poster_images/1704/tiny.jpg', 'large': 'https://media.kitsu.io/anime/poster_images/1704/large.jpg', 'small': 'https://media.kitsu.io/anime/poster_images/1704/small.jpg', 'medium': 'https://media.kitsu.io/anime/poster_images/1704/medium.jpg', 'original': 'https://media.kitsu.io/anime/poster_images/1704/original.jpg', 'meta': {'dimensions': {'tiny': {'width': 110, 'height': 156}, 'large': {'width': 550, 'height': 780}, 'small': {'width': 284, 'height': 402}, 'medium': {'width': 390, 'height': 554}}}}, 'coverImage': None, 'episodeCount': 1, 'episodeLength': 89, 'totalLength': 89, 'youtubeVideoId': '', 'showType': 'movie', 'nsfw': False}\n"
     ]
    }
   ],
   "source": [
    "print(myinfo['data'][0]['attributes'])"
   ]
  },
  {
   "cell_type": "code",
   "execution_count": null,
   "metadata": {},
   "outputs": [],
   "source": []
  }
 ],
 "metadata": {
  "kernelspec": {
   "display_name": "Python 3.10.8 64-bit (microsoft store)",
   "language": "python",
   "name": "python3"
  },
  "language_info": {
   "codemirror_mode": {
    "name": "ipython",
    "version": 3
   },
   "file_extension": ".py",
   "mimetype": "text/x-python",
   "name": "python",
   "nbconvert_exporter": "python",
   "pygments_lexer": "ipython3",
   "version": "3.10.8"
  },
  "orig_nbformat": 4,
  "vscode": {
   "interpreter": {
    "hash": "d0f5b17bf2e0ae15bbaa4312450a0fd6c02ab3a236801ce07cd1404e18b674c4"
   }
  }
 },
 "nbformat": 4,
 "nbformat_minor": 2
}
